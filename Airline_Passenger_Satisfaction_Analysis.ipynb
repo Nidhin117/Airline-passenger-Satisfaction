{
 "cells": [
  {
   "cell_type": "code",
   "execution_count": 2,
   "id": "da06b5e9",
   "metadata": {},
   "outputs": [],
   "source": [
    "#import all necessary libraries\n",
    "import pandas as pd\n",
    "import numpy as np\n",
    "import matplotlib.pyplot as plt\n",
    "\n",
    "#creating a dataframe by reading data from the Kaggle dataset\n",
    "df=pd.read_csv('airline_passenger_satisfaction.csv')"
   ]
  },
  {
   "cell_type": "code",
   "execution_count": null,
   "id": "bda73689",
   "metadata": {},
   "outputs": [],
   "source": [
    "#Verify data in dataframe\n",
    "print(df.head(10))\n"
   ]
  },
  {
   "cell_type": "code",
   "execution_count": null,
   "id": "2dbc32bf",
   "metadata": {},
   "outputs": [],
   "source": [
    "#Check number of rows and columns\n",
    "print(df.shape)\n",
    "print(df.info())"
   ]
  },
  {
   "cell_type": "code",
   "execution_count": null,
   "id": "93e1b45a",
   "metadata": {},
   "outputs": [],
   "source": [
    "#Check for null values in dataset\n",
    "df.isna().sum()"
   ]
  },
  {
   "cell_type": "code",
   "execution_count": 6,
   "id": "8ffb70bd",
   "metadata": {},
   "outputs": [],
   "source": [
    "#Fill the null values with 0\n",
    "df['Arrival Delay'].fillna(value=0, inplace=True)\n",
    "\n",
    "#Reverify null values again by executing previous cell"
   ]
  },
  {
   "cell_type": "code",
   "execution_count": null,
   "id": "c4169871",
   "metadata": {},
   "outputs": [],
   "source": [
    "#Check validity of Non null values\n",
    "print(df['Gender'].value_counts(),'\\n')\n",
    "print(df['Customer Type'].value_counts(),'\\n')\n",
    "print(df['Type of Travel'].value_counts(),'\\n')\n",
    "print(df['Class'].value_counts(),'\\n')\n",
    "print(df['Satisfaction'].value_counts())"
   ]
  },
  {
   "cell_type": "code",
   "execution_count": null,
   "id": "a6105fb1",
   "metadata": {},
   "outputs": [],
   "source": [
    "#Check the validity of values in Age column\n",
    "print(df[df['Age']>80]['Age'].value_counts(),'\\n')\n",
    "print(df[df['Age']<10]['Age'].value_counts())"
   ]
  },
  {
   "cell_type": "code",
   "execution_count": null,
   "id": "e1c840c3",
   "metadata": {},
   "outputs": [],
   "source": [
    "#Exploratory Data Analysis Starts here\n",
    "#First checking the distribution of Satisfied vs Neutral or Dissatisfied passneger on a pie plot\n",
    "fig1=plt.figure(figsize=(8,4))\n",
    "ax1=fig1.add_axes([0.1,0.1,0.9,0.9])\n",
    "\n",
    "colors = [ '#DD7596', '#8EB897']\n",
    "ax1.pie(df['Satisfaction'].value_counts(),  autopct='%1.0f%%',labels=df['Satisfaction'].unique(),\n",
    "        shadow=True,startangle=90,colors=colors)\n",
    "ax1.axis('equal')  \n",
    "ax1.set_title('Satisfied people vs Neutral/Dissatisfied')\n",
    "plt.show()"
   ]
  },
  {
   "cell_type": "code",
   "execution_count": null,
   "id": "9cbb1e5d",
   "metadata": {},
   "outputs": [],
   "source": [
    "#Plot relation between Customer Type and Satisfaction on a stacked bar chart\n",
    "plt.rcParams['figure.figsize'] = [8, 5]\n",
    "df.groupby(['Customer Type','Satisfaction']).size().unstack().plot(kind='bar',stacked=True)\n",
    "plt.title('Relation between Customer Type and Satisfaction')\n",
    "plt.ylabel('Satisfaction')\n",
    "\n",
    "#Plot relation between Passenger class and Satisfaction on a stacked bar chart\n",
    "plt.rcParams['figure.figsize'] = [8, 5]\n",
    "df.groupby(['Class','Satisfaction']).size().unstack().plot(kind='bar',stacked=True)\n",
    "plt.title('Relation between Passenger class and Satisfaction')\n",
    "plt.ylabel('Satisfaction')\n",
    "plt.legend(loc='upper right')\n",
    "\n",
    "#Plot relation between Gender and Satisfaction on a stacked bar chart\n",
    "plt.rcParams['figure.figsize'] = [10, 10]\n",
    "df.groupby(['Gender','Satisfaction']).size().unstack().plot(kind='bar',stacked=True)\n",
    "plt.title('Relation between Gender and Satisfaction')\n",
    "plt.ylabel('Satisfaction')\n",
    "plt.legend(loc='upper right')"
   ]
  },
  {
   "cell_type": "code",
   "execution_count": null,
   "id": "bee207c4",
   "metadata": {},
   "outputs": [],
   "source": [
    "#Box plot to understand the age distribution of passengers\n",
    "fig5=plt.figure(figsize=(6,4))\n",
    "ax5=fig5.add_axes([0.1,0.1,0.9,0.9])\n",
    "\n",
    "ax5.boxplot(df['Age'])\n",
    "ax5.set_title('Demography of Flight Travelers')\n",
    "ax5.set_xlabel('Age')\n",
    "plt.show()"
   ]
  },
  {
   "cell_type": "code",
   "execution_count": null,
   "id": "628c642e",
   "metadata": {},
   "outputs": [],
   "source": [
    "#extract all ratings column in one new dataframe for further use\n",
    "all_ratings=df.iloc[:,9:23]\n",
    "\n",
    "#Plotting best and worst services on adjacent bar graphs\n",
    "fig, axs = plt.subplots(1, 2, figsize=(15, 8))\n",
    "axs[0].bar(all_ratings.columns, all_ratings[all_ratings==5].count(),color='g')\n",
    "axs[0].title.set_text(\"Number of 5 star rating for each service\")\n",
    "\n",
    "axs[1].bar(all_ratings.columns, all_ratings[all_ratings==1].count(),color='r')\n",
    "axs[1].title.set_text('Number of 1 star rating for each service')\n",
    "\n",
    "fig.autofmt_xdate(rotation=80)\n",
    "fig.tight_layout(pad=5.0)\n",
    "\n",
    "\n",
    "\n",
    "plt.show()"
   ]
  },
  {
   "cell_type": "code",
   "execution_count": null,
   "id": "0647d4ab",
   "metadata": {},
   "outputs": [],
   "source": [
    "#Plotting flight distance and arrival delay on a scatter plot\n",
    "fig4, ax3 = plt.subplots(1, 1, figsize=(10, 8))\n",
    "ax3.scatter(df['Flight Distance'], df['Arrival Delay'],marker = '*')\n",
    "plt.title(\"Relation between Flight Distance and Arrival Delay\")\n",
    "plt.xlabel(\"Flight Distance\")\n",
    "plt.ylabel(\"Arrival Delay\")\n",
    "plt.show()"
   ]
  },
  {
   "cell_type": "code",
   "execution_count": null,
   "id": "d496bdc8",
   "metadata": {},
   "outputs": [],
   "source": [
    "#Unsupervised clustering using KMeans algorithm\n",
    "from sklearn import metrics\n",
    "from sklearn import cluster\n",
    "from sklearn.preprocessing import LabelEncoder\n",
    "from sklearn.preprocessing import scale\n",
    "\n",
    "#split the data to be all columns related to ratings\n",
    "x_ratings = df.iloc[:,9:23]\n",
    "\n",
    "#scale the data before clustering\n",
    "x_scaled = scale(x_ratings)\n",
    "y_class = df['Satisfaction']\n",
    "x_scaled"
   ]
  },
  {
   "cell_type": "code",
   "execution_count": 14,
   "id": "75d1e8d8",
   "metadata": {},
   "outputs": [],
   "source": [
    "#calculate the inertia to identify the elbow point to determine optimum number of clusters\n",
    "k_range=range(2,12)\n",
    "sse=[]\n",
    "for k in k_range:\n",
    "    km=cluster.KMeans(n_clusters=k)\n",
    "    km.fit(x_scaled)\n",
    "    sse.append(km.inertia_)"
   ]
  },
  {
   "cell_type": "code",
   "execution_count": null,
   "id": "e1acffc7",
   "metadata": {},
   "outputs": [],
   "source": [
    "#plotting the inertia as a function of number of clusters\n",
    "plt.xlabel('K')\n",
    "plt.ylabel('Inertia')\n",
    "plt.plot(k_range,sse)\n",
    "plt.show()"
   ]
  },
  {
   "cell_type": "code",
   "execution_count": null,
   "id": "7aa50127",
   "metadata": {},
   "outputs": [],
   "source": [
    "#building the clustering model for value of K ranging from 2 to 6 as we can see from previous graph that \n",
    "#optimal values would be between 2 and 6\n",
    "Y2 = LabelEncoder().fit_transform(y_class)\n",
    "for k in range(2, 7):\n",
    "    kmeans = cluster.KMeans(n_clusters=k)\n",
    "    kmeans.fit(x_scaled)\n",
    "    print(k)\n",
    "    print(metrics.silhouette_score(x_ratings, kmeans.labels_))\n",
    "    print(metrics.completeness_score(Y2, kmeans.labels_))\n",
    "    print(metrics.homogeneity_score(Y2, kmeans.labels_))"
   ]
  },
  {
   "cell_type": "code",
   "execution_count": null,
   "id": "4e656457",
   "metadata": {},
   "outputs": [],
   "source": [
    "#Supervised Learning section begins here\n",
    "from sklearn import model_selection\n",
    "from sklearn import metrics\n",
    "from sklearn.preprocessing import LabelEncoder\n",
    "from sklearn.tree import DecisionTreeClassifier\n",
    "\n",
    "#split all rating columns in a new dataframe\n",
    "all_ratings=df.iloc[:,9:23]\n",
    "all_ratings.columns\n",
    "all_ratings.head(10)"
   ]
  },
  {
   "cell_type": "code",
   "execution_count": 20,
   "id": "fbe3c1e7",
   "metadata": {},
   "outputs": [
    {
     "name": "stdout",
     "output_type": "stream",
     "text": [
      "Neutral or Dissatisfied    73452\n",
      "Satisfied                  56428\n",
      "Name: Satisfaction, dtype: int64\n",
      "0    73452\n",
      "1    56428\n",
      "Name: Satisfaction, dtype: int64\n"
     ]
    }
   ],
   "source": [
    "#Convert Satisfaction column to numeric values\n",
    "target_satisfaction=df['Satisfaction']\n",
    "label_mapping= {'Satisfied':1,'Neutral or Dissatisfied':0}\n",
    "target_satisfaction=target_satisfaction.map(label_mapping)\n",
    "print(df['Satisfaction'].value_counts())\n",
    "print(target_satisfaction.value_counts())"
   ]
  },
  {
   "cell_type": "code",
   "execution_count": 21,
   "id": "956d9b34",
   "metadata": {},
   "outputs": [],
   "source": [
    "#Split the training data into training and test data\n",
    "X_train, X_test, Y_train, Y_test = model_selection.train_test_split(all_ratings, target_satisfaction, test_size = 0.20)"
   ]
  },
  {
   "cell_type": "code",
   "execution_count": null,
   "id": "330a5eb9",
   "metadata": {},
   "outputs": [],
   "source": [
    "#Decision Tree\n",
    "model = DecisionTreeClassifier()\n",
    "model.fit(X_train, Y_train)\n",
    "y_predicted = model.predict(X_test)\n",
    "model.score(X_test,Y_test)\n",
    "print('Accuracy score',metrics.accuracy_score(Y_test,y_predicted))\n",
    "print(metrics.classification_report(Y_test, y_predicted))\n",
    "print(metrics.confusion_matrix(Y_test, y_predicted))"
   ]
  },
  {
   "cell_type": "code",
   "execution_count": null,
   "id": "eb8ac5aa",
   "metadata": {},
   "outputs": [],
   "source": [
    "#Visualize the confusion matrix\n",
    "import seaborn as sns\n",
    "cm=metrics.confusion_matrix(Y_test, y_predicted)\n",
    "fig1=plt.figure(figsize=(8,4))\n",
    "ax1=fig1.add_axes([0.1,0.1,0.9,0.9])\n",
    "sns.heatmap(cm,annot=True, fmt='g')\n",
    "\n",
    "plt.show()"
   ]
  },
  {
   "cell_type": "code",
   "execution_count": null,
   "id": "005bb62a",
   "metadata": {},
   "outputs": [],
   "source": []
  }
 ],
 "metadata": {
  "kernelspec": {
   "display_name": "Python 3 (ipykernel)",
   "language": "python",
   "name": "python3"
  },
  "language_info": {
   "codemirror_mode": {
    "name": "ipython",
    "version": 3
   },
   "file_extension": ".py",
   "mimetype": "text/x-python",
   "name": "python",
   "nbconvert_exporter": "python",
   "pygments_lexer": "ipython3",
   "version": "3.9.12"
  }
 },
 "nbformat": 4,
 "nbformat_minor": 5
}
